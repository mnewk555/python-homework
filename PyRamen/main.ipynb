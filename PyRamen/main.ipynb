{
 "cells": [
  {
   "cell_type": "code",
   "execution_count": 37,
   "metadata": {},
   "outputs": [
    {
     "name": "stdout",
     "output_type": "stream",
     "text": [
      "nagomi shoyu {'01-count': 9132, '02-revenue': 100452, '03-cogs': 45660, '04-profit': 54792}\n",
      "shio ramen {'01-count': 9180, '02-revenue': 100980, '03-cogs': 45900, '04-profit': 55080}\n",
      "spicy miso ramen {'01-count': 9238, '02-revenue': 110856, '03-cogs': 46190, '04-profit': 64666}\n",
      "vegetarian spicy miso {'01-count': 9216, '02-revenue': 110592, '03-cogs': 46080, '04-profit': 64512}\n",
      "miso crab ramen {'01-count': 8890, '02-revenue': 106680, '03-cogs': 53340, '04-profit': 53340}\n",
      "soft-shell miso crab ramen {'01-count': 9130, '02-revenue': 127820, '03-cogs': 63910, '04-profit': 63910}\n",
      "tori paitan ramen {'01-count': 9156, '02-revenue': 119028, '03-cogs': 54936, '04-profit': 64092}\n",
      "tonkotsu ramen {'01-count': 9288, '02-revenue': 120744, '03-cogs': 55728, '04-profit': 65016}\n",
      "burnt garlic tonkotsu ramen {'01-count': 9070, '02-revenue': 126980, '03-cogs': 54420, '04-profit': 72560}\n",
      "vegetarian curry + king trumpet mushroom ramen {'01-count': 8824, '02-revenue': 114712, '03-cogs': 61768, '04-profit': 52944}\n",
      "truffle butter ramen {'01-count': 8982, '02-revenue': 125748, '03-cogs': 62874, '04-profit': 62874}\n",
      "\n"
     ]
    }
   ],
   "source": [
    "\"\"\"\n",
    "Matthew Newkirk\n",
    "UW FinTech Bootcamp Part-Time Nov. 2020\n",
    "Unit 2 Homework Part 2 - PyRamen\n",
    "\"\"\"\n",
    "\n",
    "#Import and define the necessary libraries for managing fileIO and csv files.\n",
    "import pathlib\n",
    "from pathlib import Path\n",
    "import csv\n",
    "\n",
    "#Define Vars for input file filepath within working directory.\n",
    "menu_path = Path(\"menu_data.csv\")\n",
    "sales_path = Path(\"sales_data.csv\")\n",
    "\n",
    "#Define Var for Managing Menu and Sales Data File\n",
    "menu = []\n",
    "sales = []\n",
    "\n",
    "#Open External Menu File\n",
    "with open(menu_path, 'r') as file:\n",
    "    csvreader = csv.reader(file, delimiter=',')\n",
    "    \n",
    "    menu_header = next(csvreader)\n",
    "    for row in csvreader:\n",
    "        menu.append(row)\n",
    "\n",
    "sales_report_header = [\"Name\",\"01-count\",\"02-revenue\",\"03-cogs\",\"04-profit\"]\n",
    "menu_list = {}\n",
    "sales_report = {}\n",
    "\n",
    "#Build the menu_list and sales_report dictionary structure.\n",
    "for rows in menu:\n",
    "    menu_list[rows[0]] = {item : rows[menu_header.index(item)] for item in menu_header}\n",
    "    sales_report[rows[0]] = {item : 0 for item in sales_report_header[1:]}\n",
    "#Open External Sales File\n",
    "with open(sales_path, 'r') as file:\n",
    "    csvreader = csv.reader(file, delimiter=',')\n",
    "    sales_header = next(csvreader)\n",
    "    failsafe = 0\n",
    "    gen_row = (rows for rows in csvreader)\n",
    "    for line in gen_row:\n",
    "        if line[4] in menu_list.keys():\n",
    "            sales_report[line[4]][\"01-count\"] += (int(line[3]))\n",
    "        else:\n",
    "            print(f\"There's an unknown menu item: {line[4]}, listed on line {line_num} of the sales report.\\n\")\n",
    "            failsafe += 1\n",
    "        if failsafe > 10:\n",
    "            print(\"Too many unrecognized items! This is the wrong sales report.\")\n",
    "            break\n",
    "#Calculate Sales Report values for each entry by referencing the menu and applying sales total.\n",
    "for entry in sales_report:\n",
    "    sales_report[entry][\"02-revenue\"] = int((sales_report[entry][\"01-count\"] * float(menu_list[entry][\"price\"])))\n",
    "    sales_report[entry][\"03-cogs\"] = sales_report[entry][\"01-count\"] * int(menu_list[entry][\"cost\"])\n",
    "    sales_report[entry][\"04-profit\"] = sales_report[entry][\"02-revenue\"] - sales_report[entry][\"03-cogs\"]\n",
    "\n",
    "#Generate Output to terminal and external file.\n",
    "output = \"\"\n",
    "for entry in sales_report:\n",
    "        if menu_list[entry][\"category\"] == \"entree\": #Alternatively - if \"ramen\" in menu_list.keys():\n",
    "            output += str(entry) + \" \" + str(sales_report[entry]) + \"\\n\"\n",
    "print(output)\n",
    "output_path = Path(\"mnewk555_HW2_Ramen_Results.txt\")\n",
    "with open(output_path, 'w') as ramen_data_results:\n",
    "    ramen_data_results.write(output)\n",
    "\n",
    "#HW 2 Part 2 Finish"
   ]
  },
  {
   "cell_type": "code",
   "execution_count": null,
   "metadata": {},
   "outputs": [],
   "source": []
  },
  {
   "cell_type": "code",
   "execution_count": null,
   "metadata": {},
   "outputs": [],
   "source": []
  }
 ],
 "metadata": {
  "kernelspec": {
   "display_name": "Python 3",
   "language": "python",
   "name": "python3"
  },
  "language_info": {
   "codemirror_mode": {
    "name": "ipython",
    "version": 3
   },
   "file_extension": ".py",
   "mimetype": "text/x-python",
   "name": "python",
   "nbconvert_exporter": "python",
   "pygments_lexer": "ipython3",
   "version": "3.7.7"
  }
 },
 "nbformat": 4,
 "nbformat_minor": 4
}
